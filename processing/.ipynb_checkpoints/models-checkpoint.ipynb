{
 "cells": [
  {
   "cell_type": "code",
   "execution_count": 1,
   "metadata": {},
   "outputs": [],
   "source": [
    "def warn(*args, **kwargs):\n",
    "    pass\n",
    "import warnings\n",
    "warnings.warn = warn"
   ]
  },
  {
   "cell_type": "markdown",
   "metadata": {},
   "source": [
    "# Regression"
   ]
  },
  {
   "cell_type": "code",
   "execution_count": 1,
   "metadata": {},
   "outputs": [],
   "source": [
    "from sklearn.datasets import make_regression\n",
    "\n",
    "X, y = make_regression(n_samples=100, n_features=100)"
   ]
  },
  {
   "cell_type": "code",
   "execution_count": 24,
   "metadata": {},
   "outputs": [],
   "source": [
    "import pandas as pd\n",
    "\n",
    "df = pd.read_csv('wavelet.csv')\n",
    "\n",
    "irr_columns = ['irreg_y_right', 'irreg_z_right', 'irreg_y_left', 'irreg_z_left']\n",
    "X = df[[c for c in df.columns if c not in irr_columns]].to_numpy()\n",
    "y = df[irr_columns].to_numpy()"
   ]
  },
  {
   "cell_type": "code",
   "execution_count": 28,
   "metadata": {},
   "outputs": [],
   "source": [
    "import time\n",
    "import numpy as np\n",
    "from sklearn.pipeline import Pipeline\n",
    "from xgboost.sklearn import XGBRegressor\n",
    "from sklearn.neural_network import MLPRegressor\n",
    "from sklearn.preprocessing import StandardScaler\n",
    "from sklearn.ensemble import RandomForestRegressor\n",
    "from sklearn.model_selection import cross_validate, GridSearchCV\n",
    "from sklearn.linear_model import LinearRegression, Ridge, Lasso, ElasticNet"
   ]
  },
  {
   "cell_type": "code",
   "execution_count": 29,
   "metadata": {},
   "outputs": [],
   "source": [
    "models = {\n",
    "    'Linear Regression': LinearRegression(),\n",
    "    'Ridge': Ridge(),\n",
    "    'Lasso': Lasso(),\n",
    "    'Elastic Net': ElasticNet(),\n",
    "    'Random Forest Regressor': RandomForestRegressor(),\n",
    "    'Simpler Neural Network': MLPRegressor(early_stopping=True),\n",
    "    'XGBoost': XGBRegressor(verbosity=0)\n",
    "}\n",
    "\n",
    "parameters = {\n",
    "    'Ridge': {'alpha': [1e-3, 1e-2, 1e-1, 1, 1e1, 1e2, 1e3]},\n",
    "    'Lasso': {'alpha': [1e-3, 1e-2, 1e-1, 1, 1e1, 1e2, 1e3]},\n",
    "    'Elastic Net': {'alpha': [1e-3, 1e-2, 1e-1, 1, 1e1, 1e2, 1e3]},\n",
    "    'Random Forest Regressor': {'bootstrap':[True, False], 'n_estimators':[10, 30, 100, 300]},\n",
    "    'Simpler Neural Network': {'hidden_layer_sizes': [30, 100, 300], 'activation': ['logistic', 'tanh', 'relu']}\n",
    "}"
   ]
  },
  {
   "cell_type": "code",
   "execution_count": 30,
   "metadata": {},
   "outputs": [],
   "source": [
    "import pickle\n",
    "\n",
    "def experimental(X, y, filename=None):\n",
    "    ans = {}\n",
    "    for c in ['Linear Regression', 'XGBoost']:\n",
    "        start = time.process_time()\n",
    "        \n",
    "        pipeline = Pipeline([('transformer', StandardScaler()), ('estimator', models[c])])\n",
    "        ans[c] = cross_validate(pipeline, X, y, scoring='r2')\n",
    "        print('Elapsed time of {} is {:.6f} seconds.'.format(c, time.process_time() - start))\n",
    "\n",
    "    for c in ['Ridge', 'Lasso', 'Elastic Net', 'Random Forest Regressor', 'Simpler Neural Network']:\n",
    "        start = time.process_time()\n",
    "        \n",
    "        clf = Pipeline([('transformer', StandardScaler()), \n",
    "                        ('estimator', GridSearchCV(models[c], param_grid=parameters[c]))]).fit(X, y) # Grid search\n",
    "        \n",
    "        pipeline = Pipeline([('transformer', StandardScaler()), ('estimator', clf)])\n",
    "        ans[c] = cross_validate(pipeline, X, y, scoring='r2')\n",
    "        print('Elapsed time of {} is {:.6f} seconds.'.format(c, time.process_time() - start))\n",
    "    \n",
    "    pickle.dump(ans, open(filename, \"wb\" ))\n",
    "    return ans"
   ]
  },
  {
   "cell_type": "code",
   "execution_count": null,
   "metadata": {},
   "outputs": [
    {
     "name": "stdout",
     "output_type": "stream",
     "text": [
      "Elapsed time of Linear Regression is 61.585555 seconds.\n",
      "Elapsed time of XGBoost is 2.523960 seconds.\n",
      "Elapsed time of Ridge is 438.911417 seconds.\n",
      "Elapsed time of Lasso is 1273.599287 seconds.\n",
      "Elapsed time of Elastic Net is 2010.287056 seconds.\n"
     ]
    }
   ],
   "source": [
    "ans = experimental(X, y, 'wavelet')"
   ]
  },
  {
   "cell_type": "markdown",
   "metadata": {},
   "source": [
    "# Classification"
   ]
  },
  {
   "cell_type": "code",
   "execution_count": 11,
   "metadata": {},
   "outputs": [],
   "source": [
    "from sklearn.datasets import make_classification\n",
    "\n",
    "X, y = make_classification(n_samples=100, n_features=100)"
   ]
  },
  {
   "cell_type": "code",
   "execution_count": 13,
   "metadata": {},
   "outputs": [],
   "source": [
    "import time\n",
    "import numpy as np\n",
    "from sklearn.cluster import KMeans\n",
    "from sklearn.pipeline import Pipeline\n",
    "from sklearn.naive_bayes import GaussianNB\n",
    "from sklearn.tree import DecisionTreeClassifier\n",
    "from sklearn.preprocessing import StandardScaler\n",
    "from sklearn.neighbors import KNeighborsClassifier\n",
    "from sklearn.ensemble import RandomForestClassifier\n",
    "from sklearn.model_selection import cross_validate, GridSearchCV"
   ]
  },
  {
   "cell_type": "code",
   "execution_count": 14,
   "metadata": {},
   "outputs": [],
   "source": [
    "n_clusters = len(np.unique(y))\n",
    "\n",
    "models = {\n",
    "    'Gaussian Naive Bayes': GaussianNB(),\n",
    "    'KMeans': KMeans(n_clusters),\n",
    "    'Knn': KNeighborsClassifier(weights='uniform'),\n",
    "    'DistKnn': KNeighborsClassifier(weights='distance'),\n",
    "    'Decision Tree': DecisionTreeClassifier(),\n",
    "    'Random Forest': RandomForestClassifier(),\n",
    "}\n",
    "\n",
    "parameters = {\n",
    "    'Knn': {'n_neighbors': [1, 3, 5, 7]},\n",
    "    'DistKnn': {'n_neighbors': [1, 3, 5, 7]},\n",
    "    'Decision Tree': {'max_depth': [None, 3, 5, 10]},\n",
    "    'Random Forest': {'n_estimators': [10, 20, 50, 100]},\n",
    "}"
   ]
  },
  {
   "cell_type": "code",
   "execution_count": 15,
   "metadata": {},
   "outputs": [],
   "source": [
    "def experimental(X, y):\n",
    "    ans = {}\n",
    "    for c in ['Gaussian Naive Bayes', 'KMeans']:\n",
    "        start = time.process_time()\n",
    "\n",
    "        pipeline = Pipeline([('transformer', StandardScaler()), ('estimator', models[c])])\n",
    "        ans[c] = cross_validate(pipeline, X, y)\n",
    "        print('Elapsed time of {} is {:.6f} seconds.'.format(c, time.process_time() - start))\n",
    "\n",
    "    for c in ['Knn', 'DistKnn', 'Decision Tree', 'Random Forest']:\n",
    "        start = time.process_time()\n",
    "\n",
    "        clf = Pipeline([('transformer', StandardScaler()), \n",
    "                        ('estimator', GridSearchCV(models[c], param_grid=parameters[c]))]).fit(X, y) # Grid search\n",
    "\n",
    "        pipeline = Pipeline([('transformer', StandardScaler()), ('estimator', clf)])\n",
    "        ans[c] = cross_validate(pipeline, X, y)\n",
    "        print('Elapsed time of {} is {:.6f} seconds.'.format(c, time.process_time() - start))\n",
    "\n",
    "    return ans"
   ]
  },
  {
   "cell_type": "code",
   "execution_count": 16,
   "metadata": {},
   "outputs": [
    {
     "name": "stdout",
     "output_type": "stream",
     "text": [
      "Elapsed time of Gaussian Naive Bayes is 0.025817 seconds.\n",
      "Elapsed time of KMeans is 0.074035 seconds.\n",
      "Elapsed time of Knn is 0.214458 seconds.\n",
      "Elapsed time of DistKnn is 0.157464 seconds.\n",
      "Elapsed time of Decision Tree is 0.270921 seconds.\n",
      "Elapsed time of Random Forest is 6.158460 seconds.\n"
     ]
    },
    {
     "data": {
      "text/plain": [
       "{'Gaussian Naive Bayes': {'fit_time': array([0.00452209, 0.00220418, 0.00186729, 0.00128984, 0.00109076]),\n",
       "  'score_time': array([0.00069594, 0.00064611, 0.00067353, 0.00033283, 0.00031567]),\n",
       "  'test_score': array([0.9 , 0.95, 0.85, 0.9 , 0.75])},\n",
       " 'KMeans': {'fit_time': array([0.03517818, 0.01132059, 0.01212883, 0.01143217, 0.01163697]),\n",
       "  'score_time': array([0.00517702, 0.00034595, 0.00043225, 0.00040507, 0.0003314 ]),\n",
       "  'test_score': array([-2140.35689605, -2051.84410704, -1971.86442082, -2334.79903958,\n",
       "         -1983.07186867])},\n",
       " 'Knn': {'fit_time': array([0.03104281, 0.03134084, 0.03825474, 0.03026414, 0.03198004]),\n",
       "  'score_time': array([0.00211573, 0.00107145, 0.00161767, 0.00116372, 0.00168037]),\n",
       "  'test_score': array([0.8 , 0.75, 0.75, 0.7 , 0.8 ])},\n",
       " 'DistKnn': {'fit_time': array([0.02557206, 0.02396393, 0.02423024, 0.02470303, 0.0237546 ]),\n",
       "  'score_time': array([0.00068855, 0.000705  , 0.0006988 , 0.00070715, 0.00067711]),\n",
       "  'test_score': array([0.8 , 0.75, 0.75, 0.7 , 0.8 ])},\n",
       " 'Decision Tree': {'fit_time': array([0.04427338, 0.04225755, 0.03815913, 0.04472613, 0.04119277]),\n",
       "  'score_time': array([0.00034142, 0.00041151, 0.00037241, 0.00038505, 0.00037622]),\n",
       "  'test_score': array([0.95, 0.9 , 0.85, 0.8 , 0.75])},\n",
       " 'Random Forest': {'fit_time': array([0.93885088, 1.07488394, 0.98703885, 0.95873976, 1.09614873]),\n",
       "  'score_time': array([0.00204897, 0.00700283, 0.00210881, 0.00208735, 0.00213504]),\n",
       "  'test_score': array([0.95, 0.95, 0.85, 0.85, 0.75])}}"
      ]
     },
     "execution_count": 16,
     "metadata": {},
     "output_type": "execute_result"
    }
   ],
   "source": [
    "experimental(X, y)"
   ]
  },
  {
   "cell_type": "code",
   "execution_count": null,
   "metadata": {},
   "outputs": [],
   "source": []
  }
 ],
 "metadata": {
  "colab": {
   "collapsed_sections": [],
   "name": "ML4Planetary_Albedo.ipynb",
   "provenance": []
  },
  "kernelspec": {
   "display_name": "Python 3",
   "language": "python",
   "name": "python3"
  },
  "language_info": {
   "codemirror_mode": {
    "name": "ipython",
    "version": 3
   },
   "file_extension": ".py",
   "mimetype": "text/x-python",
   "name": "python",
   "nbconvert_exporter": "python",
   "pygments_lexer": "ipython3",
   "version": "3.6.9"
  }
 },
 "nbformat": 4,
 "nbformat_minor": 4
}
