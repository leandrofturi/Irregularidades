{
  "nbformat": 4,
  "nbformat_minor": 0,
  "metadata": {
    "colab": {
      "name": "Cópia de mysql_collab.ipynb",
      "provenance": [],
      "collapsed_sections": []
    },
    "kernelspec": {
      "display_name": "Python 3",
      "name": "python3"
    }
  },
  "cells": [
    {
      "cell_type": "code",
      "metadata": {
        "id": "GOW-gIjuJhSB"
      },
      "source": [
        "#https://stackoverflow.com/questions/62117483/import-module-in-google-colab-from-google-drive-python\n",
        "\n",
        "from google.colab import drive\n",
        "drive.mount('/content/drive')"
      ],
      "execution_count": null,
      "outputs": []
    },
    {
      "cell_type": "code",
      "metadata": {
        "id": "4nKUrIzjKl8a"
      },
      "source": [
        "# Insert the directory\n",
        "import sys\n",
        "sys.path.insert(0, '/content/drive/MyDrive/ICLabTDF')"
      ],
      "execution_count": null,
      "outputs": []
    },
    {
      "cell_type": "code",
      "metadata": {
        "id": "sh-EoNBzMd_J"
      },
      "source": [
        "#https://stackoverflow.com/questions/58201910/connecting-to-remote-mysql-instance-with-google-co-lab\n",
        "!pip install python-dotenv\n",
        "\n",
        "!pip install SQLAlchemy\n",
        "\n",
        "!sudo apt-get install python3-dev default-libmysqlclient-dev\n",
        "!pip install mysqlclient"
      ],
      "execution_count": null,
      "outputs": []
    },
    {
      "cell_type": "code",
      "metadata": {
        "id": "y8EckwWfPWS_"
      },
      "source": [
        "# .env no collab não funciona legal...\n",
        "import os\n",
        "\n",
        "os.environ['MYSQL_USERNAME']=''\n",
        "os.environ['MYSQL_PASSWORD']=''\n",
        "os.environ['MYSQL_HOST']=''\n",
        "os.environ['MYSQL_PORT']=''"
      ],
      "execution_count": null,
      "outputs": []
    },
    {
      "cell_type": "code",
      "metadata": {
        "id": "6t0o6VrMK-ZB"
      },
      "source": [
        "from utils_mysql.mysql import MySQLpy"
      ],
      "execution_count": null,
      "outputs": []
    },
    {
      "cell_type": "code",
      "metadata": {
        "id": "EvCWnOKeQAi9"
      },
      "source": [
        "db = MySQLpy(\"vagao\")\n",
        "db.test_connection()"
      ],
      "execution_count": null,
      "outputs": []
    },
    {
      "cell_type": "code",
      "metadata": {
        "id": "a6XvLAsOMBFf"
      },
      "source": [
        "tb = db.table(\"EFVM\")\n",
        "print(tb.columns)"
      ],
      "execution_count": null,
      "outputs": []
    },
    {
      "cell_type": "code",
      "metadata": {
        "id": "1R9ecku4MAO_"
      },
      "source": [
        "# Importação de módulos\n",
        "from sqlalchemy.sql import select # criação de queries para obtenção dos dados\n",
        "from sqlalchemy import and_, or_ # complemento das queries"
      ],
      "execution_count": null,
      "outputs": []
    },
    {
      "cell_type": "code",
      "metadata": {
        "id": "qoj1iHtaMYrE"
      },
      "source": [
        "stmt = select([tb.c.linha_gtg, tb.c.velocidadekmh]).where(and_(tb.c.km_ini_cc > 100, tb.c.km_ini_cc < 500)) # query"
      ],
      "execution_count": null,
      "outputs": []
    },
    {
      "cell_type": "code",
      "metadata": {
        "id": "_9XPuqzZMYfD"
      },
      "source": [
        "stmt = select([tb.c.linha_gtg, tb.c['velocidadekmh']]) \\\n",
        "  .where(and_(tb.c.km_ini_cc > 100, tb.c.km_ini_cc < 200)) # query"
      ],
      "execution_count": null,
      "outputs": []
    },
    {
      "cell_type": "code",
      "metadata": {
        "id": "rvXHUN9PNnPY"
      },
      "source": [
        "stmt = \"SELECT * FROM vagao.EFVM LIMIT 50;\""
      ],
      "execution_count": null,
      "outputs": []
    },
    {
      "cell_type": "code",
      "metadata": {
        "id": "FS6aAE4RNeSm"
      },
      "source": [
        "df = db.read_sql(stmt)\n",
        "df.head()"
      ],
      "execution_count": null,
      "outputs": []
    }
  ]
}