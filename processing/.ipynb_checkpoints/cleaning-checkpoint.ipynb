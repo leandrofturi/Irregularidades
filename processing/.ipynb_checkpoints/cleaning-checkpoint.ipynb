{
 "cells": [
  {
   "cell_type": "markdown",
   "id": "7e00f716",
   "metadata": {},
   "source": [
    "# Limpeza dos dados"
   ]
  },
  {
   "cell_type": "code",
   "execution_count": null,
   "id": "52a35b0c",
   "metadata": {},
   "outputs": [],
   "source": [
    "import pandas as pd\n",
    "import numpy as np"
   ]
  },
  {
   "cell_type": "code",
   "execution_count": null,
   "id": "8343bfa8",
   "metadata": {},
   "outputs": [],
   "source": [
    "df = pd.DataFrame([[np.nan, 2, np.nan, 0],\n",
    "                   [3, 4, np.nan, 1],\n",
    "                   [np.nan, np.nan, np.nan, 5],\n",
    "                   [2, 3, 1, 4]],\n",
    "                  columns=list('ABCD'))\n",
    "df"
   ]
  },
  {
   "cell_type": "markdown",
   "id": "175e1f63",
   "metadata": {},
   "source": [
    "## Missing values"
   ]
  },
  {
   "cell_type": "code",
   "execution_count": null,
   "id": "9e011e6a",
   "metadata": {},
   "outputs": [],
   "source": [
    "df.fillna(df.mean(), axis=0, inplace=True)\n",
    "df"
   ]
  },
  {
   "cell_type": "code",
   "execution_count": null,
   "id": "ea1dcc7c",
   "metadata": {},
   "outputs": [],
   "source": [
    "df.dropna(axis=0, inplace=True)\n",
    "df"
   ]
  },
  {
   "cell_type": "markdown",
   "id": "b8b3e988",
   "metadata": {},
   "source": [
    "## Outliers"
   ]
  },
  {
   "cell_type": "code",
   "execution_count": null,
   "id": "e7828d18",
   "metadata": {},
   "outputs": [],
   "source": [
    "def outlier_2nan(df, factor=1.5, action='drop'):\n",
    "    for c in df.columns:\n",
    "        q3, q1 = np.percentile(df[c], [75, 25])\n",
    "        iqr = q3 - q1\n",
    "        lowpass = q1 - (iqr*factor)\n",
    "        highpass = q3 + (iqr*factor)\n",
    "        df.loc[(df[c] < lowpass) | (df[c] > highpass), c] = np.nan\n",
    "    if action == 'drop':\n",
    "        df.dropna(axis=0, inplace=True)\n",
    "    if action == 'mean':\n",
    "        df.fillna(df.mean(), axis=0, inplace=True)\n",
    "\n",
    "outlier_2nan(df)"
   ]
  },
  {
   "cell_type": "markdown",
   "id": "e0de2f72",
   "metadata": {},
   "source": [
    "## Column names"
   ]
  },
  {
   "cell_type": "code",
   "execution_count": null,
   "id": "cb514bd6",
   "metadata": {},
   "outputs": [],
   "source": [
    "def standardize_column_names(df):\n",
    "    df.columns = df.columns.str.normalize('NFKD').str.encode('ascii', errors='ignore').str.decode('utf-8')\n",
    "    df.columns = df.columns.str.replace(' ', '_').str.replace(r'[^\\w]', '').str.lower()\n",
    "    print(df.columns)"
   ]
  }
 ],
 "metadata": {
  "kernelspec": {
   "display_name": "Python 3",
   "language": "python",
   "name": "python3"
  },
  "language_info": {
   "codemirror_mode": {
    "name": "ipython",
    "version": 3
   },
   "file_extension": ".py",
   "mimetype": "text/x-python",
   "name": "python",
   "nbconvert_exporter": "python",
   "pygments_lexer": "ipython3",
   "version": "3.6.9"
  }
 },
 "nbformat": 4,
 "nbformat_minor": 5
}
